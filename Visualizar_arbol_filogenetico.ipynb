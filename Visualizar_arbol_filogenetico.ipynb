{
 "cells": [
  {
   "cell_type": "code",
   "execution_count": null,
   "metadata": {},
   "outputs": [],
   "source": [
    "from Bio import Phylo \n",
    "import matplotlib.pyplot as plt\n",
    "from ete3 import Tree, TreeStyle, TextFace, faces, AttrFace, NodeStyle #http://etetoolkit.org/\n",
    "import numpy as np\n",
    "import matplotlib.colors as colors"
   ]
  },
  {
   "cell_type": "code",
   "execution_count": null,
   "metadata": {},
   "outputs": [],
   "source": [
    "#cargar el archivo con el árbol, obtenido como output de RAxML\n",
    "tree_file = \"./filogenia/standard-RAxML-master/RAxML_bestTree.output_unica_part_1000\""
   ]
  },
  {
   "cell_type": "code",
   "execution_count": null,
   "metadata": {},
   "outputs": [],
   "source": [
    "tree_ete = Tree(tree_file)"
   ]
  },
  {
   "cell_type": "code",
   "execution_count": null,
   "metadata": {},
   "outputs": [],
   "source": [
    "#listas de tipos de Alpha en función del riesgo\n",
    "alto = [39, 45, 51, 52, 56, 58, 59, 68, 73, 82, 16, 18, 31, 33, 35]\n",
    "bajo = [11, 40, 42, 43, 44, 53, 54, 61, 66, 6, 70, 72, 74, 81, 89]\n",
    "indefinido = [102, 106, 10, 114, 117, 125, 13, 160, 177, 26, 27, 28, 29, 2,\n",
    "             30, 32, 34, 3, 57, 62, 67, 69, 71, 77, 78, 7, 83, 84, 85, 86, \n",
    "             87, 90, 91, 94, 97]"
   ]
  },
  {
   "cell_type": "code",
   "execution_count": null,
   "metadata": {},
   "outputs": [],
   "source": [
    "#función para añadir la categoría de reisgo en la que se encuentra al nombre de los tipos\n",
    "def add_riesgo(name):\n",
    "    \n",
    "    virus_type = int(name.split(\"_\")[1])\n",
    "    \n",
    "    if virus_type in alto:\n",
    "        \n",
    "        name = name + \"_RA\"\n",
    "\n",
    "    elif virus_type in bajo:\n",
    "        \n",
    "        name = name + \"_RB\"\n",
    "        \n",
    "    elif virus_type in indefinido:\n",
    "        \n",
    "        name = name + \"_RI\"\n",
    "        \n",
    "    else:\n",
    "        print(\"El tipo \" + virus_type + \" no está clasificado\")\n",
    "        \n",
    "    return name"
   ]
  },
  {
   "cell_type": "code",
   "execution_count": null,
   "metadata": {},
   "outputs": [],
   "source": [
    "def estilo(nodo):\n",
    "    \n",
    "    if nodo.is_leaf():\n",
    "        nombre = AttrFace(\"name\", fsize = 25)\n",
    "        faces.add_face_to_node(nombre, nodo, 0, position = \"aligned\")\n",
    "\n",
    "def color(number):\n",
    "    color_rgba = plt.cm.Paired((np.clip(number, 0, 10)))\n",
    "    color_rgb = colors.to_rgb(color_rgba)\n",
    "    color_hex = colors.to_hex(color_rgb)\n",
    "    return color_hex\n"
   ]
  },
  {
   "cell_type": "code",
   "execution_count": null,
   "metadata": {},
   "outputs": [],
   "source": [
    "def generar_arbol(arbol):\n",
    "        \n",
    "    estilo_nodo_1 = NodeStyle()\n",
    "    estilo_nodo_1[\"bgcolor\"] = color(0)\n",
    "    \n",
    "    estilo_nodo_2 = NodeStyle()\n",
    "    estilo_nodo_2[\"bgcolor\"] = color(2)\n",
    "    \n",
    "    estilo_nodo_3 = NodeStyle()\n",
    "    estilo_nodo_3[\"bgcolor\"] = color(4)\n",
    "    \n",
    "    estilo_nodo_4 = NodeStyle()\n",
    "    estilo_nodo_4[\"bgcolor\"] = color(10)\n",
    "    \n",
    "    alfas = []\n",
    "    betas = []\n",
    "    gammas = []\n",
    "    alfas_riesgo = []\n",
    "\n",
    "    for leaf in arbol.get_leaves():\n",
    "        \n",
    "        if \"Alfa\" in leaf.name:\n",
    "            leaf.name = add_riesgo(leaf.name)\n",
    "            alfas.append(leaf.name)\n",
    "            \n",
    "        elif \"Beta\" in leaf.name:\n",
    "            name = leaf.name\n",
    "            betas.append(name)\n",
    "        \n",
    "        elif \"Gamma\" in leaf.name:\n",
    "            name = leaf.name\n",
    "            gammas.append(name)\n",
    "            \n",
    "    n1 = arbol.get_common_ancestor(alfas)\n",
    "    n1.set_style(estilo_nodo_1)\n",
    "    \n",
    "    n2 = arbol.get_common_ancestor(betas)\n",
    "    n2.set_style(estilo_nodo_2)\n",
    "    \n",
    "    n3 = arbol.get_common_ancestor(gammas)\n",
    "    n3.set_style(estilo_nodo_3)\n",
    "    \n",
    "    n4 = arbol.get_common_ancestor(\"Mu_204\")\n",
    "    n4.set_style(estilo_nodo_4)\n",
    "        \n",
    "    ts = TreeStyle()\n",
    "    ts.layout_fn = estilo\n",
    "    ts.show_leaf_name = False\n",
    "    ts.show_branch_length = True\n",
    "    ts.draw_guiding_lines = True\n",
    "    ts.guiding_lines_type = 1\n",
    "    ts.guiding_lines_color = \"gray\"\n",
    "    ts.mode = \"c\"\n",
    "    ts.arc_span = 360\n",
    "    \n",
    "    return arbol, ts"
   ]
  },
  {
   "cell_type": "code",
   "execution_count": null,
   "metadata": {},
   "outputs": [],
   "source": [
    "arbol, ts = generar_arbol(tree_ete)\n",
    "##descomentar para visualizar árbol en otra ventana\n",
    "#arbol.show(tree_style = ts)"
   ]
  },
  {
   "cell_type": "code",
   "execution_count": null,
   "metadata": {},
   "outputs": [],
   "source": [
    "arbol.render(\"./results/tree.svg\", tree_style = ts)"
   ]
  }
 ],
 "metadata": {
  "kernelspec": {
   "display_name": "Python 3",
   "language": "python",
   "name": "python3"
  },
  "language_info": {
   "codemirror_mode": {
    "name": "ipython",
    "version": 3
   },
   "file_extension": ".py",
   "mimetype": "text/x-python",
   "name": "python",
   "nbconvert_exporter": "python",
   "pygments_lexer": "ipython3",
   "version": "3.7.1"
  }
 },
 "nbformat": 4,
 "nbformat_minor": 2
}
